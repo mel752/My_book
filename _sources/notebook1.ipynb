{
 "cells": [
  {
   "cell_type": "code",
   "execution_count": 3,
   "id": "d379808c",
   "metadata": {},
   "outputs": [
    {
     "name": "stdout",
     "output_type": "stream",
     "text": [
      "!hola desde Jupyter Book¡\n"
     ]
    }
   ],
   "source": [
    "print (\"!hola desde Jupyter Book¡\")"
   ]
  },
  {
   "cell_type": "markdown",
   "id": "f6c582b5",
   "metadata": {},
   "source": [
    "# Mi primer notebook en Jupyter Book\n",
    "\n",
    "Este es un ejemplo básico para que los alumnos vean cómo se integra un notebook en un libro.\n"
   ]
  },
  {
   "cell_type": "code",
   "execution_count": null,
   "id": "d5274fb5",
   "metadata": {},
   "outputs": [],
   "source": [
    "nombre = input(\"¿Cómo te llamas? \")\n",
    "print(f\"¡Hola, {nombre}! Bienvenido a Jupyter Book.\")\n"
   ]
  },
  {
   "cell_type": "markdown",
   "id": "0b09012d",
   "metadata": {},
   "source": [
    "## ¿Qué aprendimos?\n",
    "\n",
    "- Cómo crear un libro  \n",
    "- Cómo agregar notebooks  \n",
    "- Cómo publicar en GitHub Pages\n"
   ]
  }
 ],
 "metadata": {
  "kernelspec": {
   "display_name": "venv",
   "language": "python",
   "name": "python3"
  },
  "language_info": {
   "codemirror_mode": {
    "name": "ipython",
    "version": 3
   },
   "file_extension": ".py",
   "mimetype": "text/x-python",
   "name": "python",
   "nbconvert_exporter": "python",
   "pygments_lexer": "ipython3",
   "version": "3.13.7"
  }
 },
 "nbformat": 4,
 "nbformat_minor": 5
}
